{
 "cells": [
  {
   "cell_type": "markdown",
   "metadata": {},
   "source": [
    "## Analysis of basketball Tip offs"
   ]
  },
  {
   "cell_type": "markdown",
   "metadata": {},
   "source": [
    "Below is an intial exploratory analysis of basketball tipoffs and the factors affecting each result. The dataset provided specifically focuses on the 2017-2018 season. This notebook will examine the data and then attempt to build a model whereby predictions for predictions can be made for future tip offs. "
   ]
  },
  {
   "cell_type": "markdown",
   "metadata": {},
   "source": [
    "## Import Dependencies and datasets"
   ]
  },
  {
   "cell_type": "markdown",
   "metadata": {},
   "source": [
    "What I've done is uploaded both sheets as seperate data frames and then combined both files to created a new dataframe combined which contains all the records together. This will be done by importing the pandas module."
   ]
  },
  {
   "cell_type": "code",
   "execution_count": 87,
   "metadata": {},
   "outputs": [],
   "source": [
    "import pandas as pd\n",
    "import matplotlib.pyplot as plt"
   ]
  },
  {
   "cell_type": "code",
   "execution_count": 18,
   "metadata": {},
   "outputs": [],
   "source": [
    "Tipoffs = pd.read_excel(\"Basketball_Tipoffs.xlsx\", sheet_name = \"Tipoffs\")\n",
    "Players = pd.read_excel(\"Basketball_Tipoffs.xlsx\", sheet_name = \"Players\")"
   ]
  },
  {
   "cell_type": "code",
   "execution_count": 66,
   "metadata": {
    "scrolled": true
   },
   "outputs": [
    {
     "data": {
      "text/html": [
       "<div>\n",
       "<style scoped>\n",
       "    .dataframe tbody tr th:only-of-type {\n",
       "        vertical-align: middle;\n",
       "    }\n",
       "\n",
       "    .dataframe tbody tr th {\n",
       "        vertical-align: top;\n",
       "    }\n",
       "\n",
       "    .dataframe thead th {\n",
       "        text-align: right;\n",
       "    }\n",
       "</style>\n",
       "<table border=\"1\" class=\"dataframe\">\n",
       "  <thead>\n",
       "    <tr style=\"text-align: right;\">\n",
       "      <th></th>\n",
       "      <th>Date</th>\n",
       "      <th>Home</th>\n",
       "      <th>Away</th>\n",
       "      <th>Home Player</th>\n",
       "      <th>Away Player</th>\n",
       "      <th>Winner</th>\n",
       "    </tr>\n",
       "  </thead>\n",
       "  <tbody>\n",
       "    <tr>\n",
       "      <th>0</th>\n",
       "      <td>2017-10-17</td>\n",
       "      <td>CLE</td>\n",
       "      <td>BOS</td>\n",
       "      <td>Kevin Love</td>\n",
       "      <td>Al Horford</td>\n",
       "      <td>BOS</td>\n",
       "    </tr>\n",
       "    <tr>\n",
       "      <th>1</th>\n",
       "      <td>2017-10-17</td>\n",
       "      <td>GSW</td>\n",
       "      <td>HOU</td>\n",
       "      <td>Zaza Pachulia</td>\n",
       "      <td>Clint Capela</td>\n",
       "      <td>HOU</td>\n",
       "    </tr>\n",
       "    <tr>\n",
       "      <th>2</th>\n",
       "      <td>2017-10-18</td>\n",
       "      <td>DET</td>\n",
       "      <td>CHA</td>\n",
       "      <td>Andre Drummond</td>\n",
       "      <td>Dwight Howard</td>\n",
       "      <td>CHA</td>\n",
       "    </tr>\n",
       "    <tr>\n",
       "      <th>3</th>\n",
       "      <td>2017-10-18</td>\n",
       "      <td>IND</td>\n",
       "      <td>BKN</td>\n",
       "      <td>Myles Turner</td>\n",
       "      <td>Timofey Mozgov</td>\n",
       "      <td>IND</td>\n",
       "    </tr>\n",
       "    <tr>\n",
       "      <th>4</th>\n",
       "      <td>2017-10-18</td>\n",
       "      <td>ORL</td>\n",
       "      <td>MIA</td>\n",
       "      <td>Nikola Vucevic</td>\n",
       "      <td>Hassan Whiteside</td>\n",
       "      <td>MIA</td>\n",
       "    </tr>\n",
       "  </tbody>\n",
       "</table>\n",
       "</div>"
      ],
      "text/plain": [
       "        Date Home Away     Home Player       Away Player Winner\n",
       "0 2017-10-17  CLE  BOS      Kevin Love        Al Horford    BOS\n",
       "1 2017-10-17  GSW  HOU   Zaza Pachulia      Clint Capela    HOU\n",
       "2 2017-10-18  DET  CHA  Andre Drummond     Dwight Howard    CHA\n",
       "3 2017-10-18  IND  BKN    Myles Turner    Timofey Mozgov    IND\n",
       "4 2017-10-18  ORL  MIA  Nikola Vucevic  Hassan Whiteside    MIA"
      ]
     },
     "execution_count": 66,
     "metadata": {},
     "output_type": "execute_result"
    }
   ],
   "source": [
    "Tipoffs.head()"
   ]
  },
  {
   "cell_type": "code",
   "execution_count": 67,
   "metadata": {},
   "outputs": [
    {
     "data": {
      "text/html": [
       "<div>\n",
       "<style scoped>\n",
       "    .dataframe tbody tr th:only-of-type {\n",
       "        vertical-align: middle;\n",
       "    }\n",
       "\n",
       "    .dataframe tbody tr th {\n",
       "        vertical-align: top;\n",
       "    }\n",
       "\n",
       "    .dataframe thead th {\n",
       "        text-align: right;\n",
       "    }\n",
       "</style>\n",
       "<table border=\"1\" class=\"dataframe\">\n",
       "  <thead>\n",
       "    <tr style=\"text-align: right;\">\n",
       "      <th></th>\n",
       "      <th>Player</th>\n",
       "      <th>Age</th>\n",
       "      <th>Height (Inches)</th>\n",
       "      <th>Weight (Lbs)</th>\n",
       "      <th>Country</th>\n",
       "    </tr>\n",
       "  </thead>\n",
       "  <tbody>\n",
       "    <tr>\n",
       "      <th>0</th>\n",
       "      <td>Al Horford</td>\n",
       "      <td>32</td>\n",
       "      <td>82</td>\n",
       "      <td>245</td>\n",
       "      <td>Dominican Republic</td>\n",
       "    </tr>\n",
       "    <tr>\n",
       "      <th>1</th>\n",
       "      <td>Al Jefferson</td>\n",
       "      <td>33</td>\n",
       "      <td>82</td>\n",
       "      <td>280</td>\n",
       "      <td>USA</td>\n",
       "    </tr>\n",
       "    <tr>\n",
       "      <th>2</th>\n",
       "      <td>Alex Len</td>\n",
       "      <td>25</td>\n",
       "      <td>85</td>\n",
       "      <td>250</td>\n",
       "      <td>Ukraine</td>\n",
       "    </tr>\n",
       "    <tr>\n",
       "      <th>3</th>\n",
       "      <td>Amir Johnson</td>\n",
       "      <td>31</td>\n",
       "      <td>81</td>\n",
       "      <td>240</td>\n",
       "      <td>USA</td>\n",
       "    </tr>\n",
       "    <tr>\n",
       "      <th>4</th>\n",
       "      <td>Andre Drummond</td>\n",
       "      <td>25</td>\n",
       "      <td>83</td>\n",
       "      <td>279</td>\n",
       "      <td>USA</td>\n",
       "    </tr>\n",
       "  </tbody>\n",
       "</table>\n",
       "</div>"
      ],
      "text/plain": [
       "           Player  Age  Height (Inches)  Weight (Lbs)             Country\n",
       "0      Al Horford   32               82           245  Dominican Republic\n",
       "1    Al Jefferson   33               82           280                 USA\n",
       "2        Alex Len   25               85           250             Ukraine\n",
       "3    Amir Johnson   31               81           240                 USA\n",
       "4  Andre Drummond   25               83           279                 USA"
      ]
     },
     "execution_count": 67,
     "metadata": {},
     "output_type": "execute_result"
    }
   ],
   "source": [
    "Players.head()"
   ]
  },
  {
   "cell_type": "code",
   "execution_count": 68,
   "metadata": {},
   "outputs": [
    {
     "data": {
      "text/html": [
       "<div>\n",
       "<style scoped>\n",
       "    .dataframe tbody tr th:only-of-type {\n",
       "        vertical-align: middle;\n",
       "    }\n",
       "\n",
       "    .dataframe tbody tr th {\n",
       "        vertical-align: top;\n",
       "    }\n",
       "\n",
       "    .dataframe thead th {\n",
       "        text-align: right;\n",
       "    }\n",
       "</style>\n",
       "<table border=\"1\" class=\"dataframe\">\n",
       "  <thead>\n",
       "    <tr style=\"text-align: right;\">\n",
       "      <th></th>\n",
       "      <th>Date</th>\n",
       "      <th>Home</th>\n",
       "      <th>Away</th>\n",
       "      <th>Winner</th>\n",
       "      <th>homePlayer</th>\n",
       "      <th>homeAge</th>\n",
       "      <th>homeHeight</th>\n",
       "      <th>homeWeight</th>\n",
       "      <th>homeCountry</th>\n",
       "      <th>awayPlayer</th>\n",
       "      <th>awayAge</th>\n",
       "      <th>awayHeight</th>\n",
       "      <th>awayWeight</th>\n",
       "      <th>awayCountry</th>\n",
       "    </tr>\n",
       "  </thead>\n",
       "  <tbody>\n",
       "    <tr>\n",
       "      <th>0</th>\n",
       "      <td>2017-10-17</td>\n",
       "      <td>CLE</td>\n",
       "      <td>BOS</td>\n",
       "      <td>BOS</td>\n",
       "      <td>Kevin Love</td>\n",
       "      <td>30</td>\n",
       "      <td>82</td>\n",
       "      <td>251</td>\n",
       "      <td>USA</td>\n",
       "      <td>Al Horford</td>\n",
       "      <td>32</td>\n",
       "      <td>82</td>\n",
       "      <td>245</td>\n",
       "      <td>Dominican Republic</td>\n",
       "    </tr>\n",
       "    <tr>\n",
       "      <th>1</th>\n",
       "      <td>2018-01-27</td>\n",
       "      <td>GSW</td>\n",
       "      <td>BOS</td>\n",
       "      <td>BOS</td>\n",
       "      <td>Zaza Pachulia</td>\n",
       "      <td>34</td>\n",
       "      <td>83</td>\n",
       "      <td>270</td>\n",
       "      <td>Russia</td>\n",
       "      <td>Al Horford</td>\n",
       "      <td>32</td>\n",
       "      <td>82</td>\n",
       "      <td>245</td>\n",
       "      <td>Dominican Republic</td>\n",
       "    </tr>\n",
       "    <tr>\n",
       "      <th>2</th>\n",
       "      <td>2017-12-10</td>\n",
       "      <td>DET</td>\n",
       "      <td>BOS</td>\n",
       "      <td>DET</td>\n",
       "      <td>Andre Drummond</td>\n",
       "      <td>25</td>\n",
       "      <td>83</td>\n",
       "      <td>279</td>\n",
       "      <td>USA</td>\n",
       "      <td>Al Horford</td>\n",
       "      <td>32</td>\n",
       "      <td>82</td>\n",
       "      <td>245</td>\n",
       "      <td>Dominican Republic</td>\n",
       "    </tr>\n",
       "    <tr>\n",
       "      <th>3</th>\n",
       "      <td>2017-12-18</td>\n",
       "      <td>IND</td>\n",
       "      <td>BOS</td>\n",
       "      <td>BOS</td>\n",
       "      <td>Myles Turner</td>\n",
       "      <td>22</td>\n",
       "      <td>83</td>\n",
       "      <td>250</td>\n",
       "      <td>USA</td>\n",
       "      <td>Al Horford</td>\n",
       "      <td>32</td>\n",
       "      <td>82</td>\n",
       "      <td>245</td>\n",
       "      <td>Dominican Republic</td>\n",
       "    </tr>\n",
       "    <tr>\n",
       "      <th>4</th>\n",
       "      <td>2017-11-05</td>\n",
       "      <td>ORL</td>\n",
       "      <td>BOS</td>\n",
       "      <td>BOS</td>\n",
       "      <td>Nikola Vucevic</td>\n",
       "      <td>27</td>\n",
       "      <td>84</td>\n",
       "      <td>260</td>\n",
       "      <td>Montenegro</td>\n",
       "      <td>Al Horford</td>\n",
       "      <td>32</td>\n",
       "      <td>82</td>\n",
       "      <td>245</td>\n",
       "      <td>Dominican Republic</td>\n",
       "    </tr>\n",
       "  </tbody>\n",
       "</table>\n",
       "</div>"
      ],
      "text/plain": [
       "        Date Home Away Winner      homePlayer  homeAge  homeHeight  \\\n",
       "0 2017-10-17  CLE  BOS    BOS      Kevin Love       30          82   \n",
       "1 2018-01-27  GSW  BOS    BOS   Zaza Pachulia       34          83   \n",
       "2 2017-12-10  DET  BOS    DET  Andre Drummond       25          83   \n",
       "3 2017-12-18  IND  BOS    BOS    Myles Turner       22          83   \n",
       "4 2017-11-05  ORL  BOS    BOS  Nikola Vucevic       27          84   \n",
       "\n",
       "   homeWeight homeCountry  awayPlayer  awayAge  awayHeight  awayWeight  \\\n",
       "0         251         USA  Al Horford       32          82         245   \n",
       "1         270      Russia  Al Horford       32          82         245   \n",
       "2         279         USA  Al Horford       32          82         245   \n",
       "3         250         USA  Al Horford       32          82         245   \n",
       "4         260  Montenegro  Al Horford       32          82         245   \n",
       "\n",
       "          awayCountry  \n",
       "0  Dominican Republic  \n",
       "1  Dominican Republic  \n",
       "2  Dominican Republic  \n",
       "3  Dominican Republic  \n",
       "4  Dominican Republic  "
      ]
     },
     "execution_count": 68,
     "metadata": {},
     "output_type": "execute_result"
    }
   ],
   "source": [
    "homePlayers = Players.rename(columns={'Player': 'homePlayer', 'Age': 'homeAge', 'Height (Inches)': 'homeHeight', 'Weight (Lbs)': 'homeWeight', 'Country': 'homeCountry'})\n",
    "awayPlayers = Players.rename(columns={'Player': 'awayPlayer', 'Age': 'awayAge', 'Height (Inches)': 'awayHeight', 'Weight (Lbs)': 'awayWeight', 'Country': 'awayCountry'})\n",
    "\n",
    "carry = pd.merge(Tipoffs, homePlayers, left_on='Home Player',right_on ='homePlayer', how='inner')\n",
    "combined = pd.merge(carry, awayPlayers, left_on='Away Player',right_on ='awayPlayer', how='inner')\n",
    "\n",
    "combined = combined.drop([\"Home Player\", \"Away Player\"], axis=1)\n",
    "combined.head()"
   ]
  },
  {
   "cell_type": "markdown",
   "metadata": {},
   "source": [
    "## Data Exploration:\n",
    "1) Most common winner\n",
    "\n",
    "2) Home/Away game influence\n",
    "\n",
    "3) Age, weight, country influence"
   ]
  },
  {
   "cell_type": "code",
   "execution_count": 93,
   "metadata": {},
   "outputs": [
    {
     "data": {
      "text/plain": [
       "Winner\n",
       "ATL    43\n",
       "BKN    36\n",
       "BOS    48\n",
       "CHA    49\n",
       "CHI    40\n",
       "CLE    25\n",
       "DAL    17\n",
       "DEN    30\n",
       "DET    55\n",
       "GSW    43\n",
       "HOU    40\n",
       "IND    24\n",
       "LAC    49\n",
       "LAL    47\n",
       "MEM    42\n",
       "MIA    39\n",
       "MIL    42\n",
       "MIN    44\n",
       "NOP    51\n",
       "NYK    49\n",
       "OKC    58\n",
       "ORL    33\n",
       "PHI    57\n",
       "PHX    28\n",
       "POR    52\n",
       "SAC    37\n",
       "SAS    53\n",
       "TOR    46\n",
       "UTA    47\n",
       "WAS    67\n",
       "dtype: int64"
      ]
     },
     "execution_count": 93,
     "metadata": {},
     "output_type": "execute_result"
    }
   ],
   "source": [
    "df2 = combined.groupby(['Winner']).size()\n",
    "df2"
   ]
  },
  {
   "cell_type": "markdown",
   "metadata": {},
   "source": [
    "## Data exploration"
   ]
  },
  {
   "cell_type": "markdown",
   "metadata": {},
   "source": [
    "Looking at the results above it  would make"
   ]
  }
 ],
 "metadata": {
  "kernelspec": {
   "display_name": "Python 3",
   "language": "python",
   "name": "python3"
  },
  "language_info": {
   "codemirror_mode": {
    "name": "ipython",
    "version": 3
   },
   "file_extension": ".py",
   "mimetype": "text/x-python",
   "name": "python",
   "nbconvert_exporter": "python",
   "pygments_lexer": "ipython3",
   "version": "3.7.3"
  }
 },
 "nbformat": 4,
 "nbformat_minor": 2
}
